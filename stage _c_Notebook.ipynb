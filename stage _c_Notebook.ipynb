{
 "cells": [
  {
   "cell_type": "code",
   "execution_count": null,
   "id": "2da10544",
   "metadata": {},
   "outputs": [],
   "source": [
    "import numpy as np\n",
    "import pandas as pd\n",
    "from sklearn.ensemble import RandomForestClassifier, ExtraTreesClassifier\n",
    "from xgboost import XGBClassifier\n",
    "from lightgbm import LGBMClassifier\n",
    "from sklearn.datasets import make_classification\n",
    "from sklearn.model_selection import train_test_split\n",
    "from sklearn.metrics import classification_report\n"
   ]
  },
  {
   "cell_type": "code",
   "execution_count": null,
   "id": "facd52ba",
   "metadata": {},
   "outputs": [],
   "source": [
    "df = pd.read_csv('Data_for_UCI_named.csv')"
   ]
  },
  {
   "cell_type": "code",
   "execution_count": null,
   "id": "10bb65b4",
   "metadata": {},
   "outputs": [],
   "source": [
    "# Split the dataset into train and test sets\n",
    "X_train, X_test, y_train, y_test = train_test_split(X, y, test_size=0.2, random_state=1)"
   ]
  },
  {
   "cell_type": "code",
   "execution_count": null,
   "id": "7f50f05e",
   "metadata": {},
   "outputs": [],
   "source": [
    "# Train a Random Forest Classifier\n",
    "rf_clf = RandomForestClassifier(n_estimators=100, random_state=1)\n",
    "rf_clf.fit(X_train, y_train)\n"
   ]
  },
  {
   "cell_type": "code",
   "execution_count": null,
   "id": "ecce56da",
   "metadata": {},
   "outputs": [],
   "source": [
    "# Train an Extra Trees Classifier\n",
    "et_clf = ExtraTreesClassifier(n_estimators=100, random_state=1)\n",
    "et_clf.fit(X_train, y_train)"
   ]
  },
  {
   "cell_type": "code",
   "execution_count": null,
   "id": "796e144b",
   "metadata": {},
   "outputs": [],
   "source": [
    "# Train an XGBoost model\n",
    "xgb_clf = XGBClassifier(n_estimators=100, random_state=1)\n",
    "xgb_clf.fit(X_train, y_train)\n"
   ]
  },
  {
   "cell_type": "code",
   "execution_count": null,
   "id": "3b4570ee",
   "metadata": {},
   "outputs": [],
   "source": [
    "# Train a LightGBM model\n",
    "lgbm_clf = LGBMClassifier(n_estimators=100, random_state=1)\n",
    "lgbm_clf.fit(X_train, y_train)\n"
   ]
  },
  {
   "cell_type": "code",
   "execution_count": null,
   "id": "976a1a04",
   "metadata": {},
   "outputs": [],
   "source": [
    "# Make predictions on the test set\n",
    "rf_preds = rf_clf.predict(X_test)\n",
    "et_preds = et_clf.predict(X_test)\n",
    "xgb_preds = xgb_clf.predict(X_test)\n",
    "lgbm_preds = lgbm_clf.predict(X_test)\n"
   ]
  },
  {
   "cell_type": "code",
   "execution_count": null,
   "id": "66131fca",
   "metadata": {},
   "outputs": [],
   "source": [
    "# Calculate accuracy scores\n",
    "rf_accuracy = accuracy_score(y_test, rf_preds)\n",
    "et_accuracy = accuracy_score(y_test, et_preds)\n",
    "xgb_accuracy = accuracy_score(y_test, xgb_preds)\n",
    "lgbm_accuracy = accuracy_score(y_test, lgbm_preds)"
   ]
  },
  {
   "cell_type": "code",
   "execution_count": null,
   "id": "f9d31244",
   "metadata": {},
   "outputs": [],
   "source": [
    "# Print the accuracy scores\n",
    "print(\"Random Forest Accuracy:\", rf_accuracy)\n",
    "print(\"Extra Trees Accuracy:\", et_accuracy)\n",
    "print(\"XGBoost Accuracy:\", xgb_accuracy)\n",
    "print(\"LightGBM Accuracy:\", lgbm_accuracy)"
   ]
  },
  {
   "cell_type": "code",
   "execution_count": null,
   "id": "f950c617",
   "metadata": {},
   "outputs": [],
   "source": []
  }
 ],
 "metadata": {
  "kernelspec": {
   "display_name": "Python 3 (ipykernel)",
   "language": "python",
   "name": "python3"
  },
  "language_info": {
   "codemirror_mode": {
    "name": "ipython",
    "version": 3
   },
   "file_extension": ".py",
   "mimetype": "text/x-python",
   "name": "python",
   "nbconvert_exporter": "python",
   "pygments_lexer": "ipython3",
   "version": "3.9.13"
  }
 },
 "nbformat": 4,
 "nbformat_minor": 5
}
